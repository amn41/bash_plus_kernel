{
  "cells": [
    {
      "cell_type": "code",
      "source": [
        "python hello.py &"
      ],
      "outputs": [
        {
          "output_type": "stream",
          "name": "stdout",
          "text": [
            "[1] 4042\n"
          ]
        }
      ],
      "execution_count": 1,
      "metadata": {
        "inputHidden": false,
        "outputHidden": false
      }
    },
    {
      "cell_type": "code",
      "source": [
        "./open-ui"
      ],
      "outputs": [
        {
          "output_type": "stream",
          "name": "stdout",
          "text": [
            "[2019-03-27 18:56:25 +0100] [4042] [INFO] Goin' Fast @ http://0.0.0.0:8000\n",
            "[2019-03-27 18:56:25 +0100] [4042] [INFO] Starting worker [4042]\n",
            "[2] 4043\n"
          ]
        },
        {
          "output_type": "error",
          "ename": "",
          "evalue": "1",
          "traceback": []
        }
      ],
      "execution_count": 2,
      "metadata": {
        "inputHidden": false,
        "outputHidden": false
      }
    }
  ],
  "metadata": {
    "kernel_info": {
      "name": "bash"
    },
    "kernelspec": {
      "name": "bash",
      "language": "bash",
      "display_name": "Bash"
    },
    "language_info": {
      "name": "bash",
      "codemirror_mode": "shell",
      "mimetype": "text/x-sh",
      "file_extension": ".sh"
    },
    "nteract": {
      "version": "0.12.3"
    }
  },
  "nbformat": 4,
  "nbformat_minor": 4
}