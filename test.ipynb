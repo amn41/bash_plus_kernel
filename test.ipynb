{
  "cells": [
    {
      "cell_type": "code",
      "source": [
        "python hello.py &"
      ],
      "outputs": [
        {
          "output_type": "stream",
          "name": "stdout",
          "text": [
            "[1] 4042\n"
          ]
        }
      ],
      "execution_count": 1,
      "metadata": {
        "inputHidden": false,
        "outputHidden": false
      }
    },
    {
      "cell_type": "code",
      "source": [
        "./ngrok http 8000 &"
      ],
      "outputs": [
        {
          "output_type": "stream",
          "name": "stdout",
          "text": [
            "[2019-03-27 18:56:25 +0100] [4042] [INFO] Goin' Fast @ http://0.0.0.0:8000\n",
            "[2019-03-27 18:56:25 +0100] [4042] [INFO] Starting worker [4042]\n",
            "[2] 4043\n"
          ]
        },
        {
          "output_type": "error",
          "ename": "",
          "evalue": "1",
          "traceback": []
        }
      ],
      "execution_count": 2,
      "metadata": {
        "inputHidden": false,
        "outputHidden": false
      }
    },
    {
      "cell_type": "code",
      "source": [
        "curl localhost:4040/api/tunnels | python -mjson.tool | grep public_url"
      ],
      "outputs": [
        {
          "output_type": "stream",
          "name": "stdout",
          "text": [
            "  % Total    % Received % Xferd  Average Speed   Time    Time     Time  Current\n",
            "                                 Dload  Upload   Total   Spent    Left  Speed\n",
            "  0     0    0     0    0     0      0      0 --:--:-- --:--:-- --:--:--     0curl: (7) Failed to connect to localhost port 4040: Connection refused\n",
            "Expecting value: line 1 column 1 (char 0)\n"
          ]
        },
        {
          "output_type": "error",
          "ename": "",
          "evalue": "1",
          "traceback": []
        }
      ],
      "execution_count": 3,
      "metadata": {
        "collapsed": false,
        "outputHidden": false,
        "inputHidden": false
      }
    },
    {
      "cell_type": "code",
      "source": [
        "echo \"iframe\""
      ],
      "outputs": [],
      "execution_count": null,
      "metadata": {
        "collapsed": false,
        "outputHidden": false,
        "inputHidden": false
      }
    }
  ],
  "metadata": {
    "kernel_info": {
      "name": "bash"
    },
    "kernelspec": {
      "name": "bash",
      "language": "bash",
      "display_name": "Bash"
    },
    "language_info": {
      "name": "bash",
      "codemirror_mode": "shell",
      "mimetype": "text/x-sh",
      "file_extension": ".sh"
    },
    "nteract": {
      "version": "0.12.3"
    }
  },
  "nbformat": 4,
  "nbformat_minor": 4
}